{
 "cells": [
  {
   "cell_type": "code",
   "execution_count": 10,
   "id": "17e14b69",
   "metadata": {},
   "outputs": [
    {
     "name": "stdout",
     "output_type": "stream",
     "text": [
      "36260.70275581341\n",
      "43687.5936817029\n"
     ]
    }
   ],
   "source": [
    "#V=10kV\n",
    "E = 10*(10**3)*600*(10**6)/(804*(10**6)*(0.04/1.55+0.18))\n",
    "print(E)\n",
    "Td = E/0.83\n",
    "print(Td)"
   ]
  },
  {
   "cell_type": "code",
   "execution_count": 5,
   "id": "fa3c145a",
   "metadata": {},
   "outputs": [
    {
     "data": {
      "text/plain": [
       "43512.843306976094"
      ]
     },
     "execution_count": 5,
     "metadata": {},
     "output_type": "execute_result"
    }
   ],
   "source": [
    "#V=12kV\n",
    "E = 12*(10**3)*600*(10**6)/(804*(10**6)*(0.04/1.55+0.18))\n",
    "E"
   ]
  },
  {
   "cell_type": "code",
   "execution_count": 6,
   "id": "85054eeb",
   "metadata": {},
   "outputs": [
    {
     "data": {
      "text/plain": [
       "50764.983858138774"
      ]
     },
     "execution_count": 6,
     "metadata": {},
     "output_type": "execute_result"
    }
   ],
   "source": [
    "#V=14kV\n",
    "E = 14*(10**3)*600*(10**6)/(804*(10**6)*(0.04/1.55+0.18))\n",
    "E"
   ]
  },
  {
   "cell_type": "code",
   "execution_count": 7,
   "id": "92f2b27e",
   "metadata": {},
   "outputs": [
    {
     "data": {
      "text/plain": [
       "58017.124409301454"
      ]
     },
     "execution_count": 7,
     "metadata": {},
     "output_type": "execute_result"
    }
   ],
   "source": [
    "#V=16kV\n",
    "E = 16*(10**3)*600*(10**6)/(804*(10**6)*(0.04/1.55+0.18))\n",
    "E"
   ]
  },
  {
   "cell_type": "code",
   "execution_count": 8,
   "id": "d63d01cc",
   "metadata": {},
   "outputs": [
    {
     "data": {
      "text/plain": [
       "65269.26496046414"
      ]
     },
     "execution_count": 8,
     "metadata": {},
     "output_type": "execute_result"
    }
   ],
   "source": [
    "#V=18kV\n",
    "E = 18*(10**3)*600*(10**6)/(804*(10**6)*(0.04/1.55+0.18))\n",
    "E"
   ]
  },
  {
   "cell_type": "code",
   "execution_count": 12,
   "id": "bec23c39",
   "metadata": {},
   "outputs": [
    {
     "data": {
      "text/plain": [
       "72521.40551162681"
      ]
     },
     "execution_count": 12,
     "metadata": {},
     "output_type": "execute_result"
    }
   ],
   "source": [
    "#V=20kV\n",
    "E = 20*(10**3)*600*(10**6)/(804*(10**6)*(0.04/1.55+0.18))\n",
    "E"
   ]
  },
  {
   "cell_type": "code",
   "execution_count": null,
   "id": "f4bb9106",
   "metadata": {},
   "outputs": [],
   "source": []
  },
  {
   "cell_type": "code",
   "execution_count": null,
   "id": "16c5cedf",
   "metadata": {},
   "outputs": [],
   "source": []
  },
  {
   "cell_type": "code",
   "execution_count": 57,
   "id": "74f4ff97",
   "metadata": {},
   "outputs": [
    {
     "name": "stderr",
     "output_type": "stream",
     "text": [
      "C:\\Users\\1\\AppData\\Local\\Temp/ipykernel_1900/2911377295.py:7: UserWarning: color is redundantly defined by the 'color' keyword argument and the fmt string \"gs\" (-> color='g'). The keyword argument will take precedence.\n",
      "  pl.errorbar(x, data,fmt='gs', capsize=22, color = 'black')\n"
     ]
    },
    {
     "data": {
      "image/png": "[encoded data removed]",
      "text/plain": [
       "<Figure size 432x288 with 1 Axes>"
      ]
     },
     "metadata": {
      "needs_background": "light"
     },
     "output_type": "display_data"
    }
   ],
   "source": [
    "x = [3.6, 4.4, 5.1, 5.8, 6.5, 7.3]\n",
    "data = [0.005, 0.007, 0.012, 0.015, 0.017, 0.022]\n",
    "y = [0.0044*i - 0.0107 for i in x]\n",
    "\n",
    "import matplotlib.pyplot as pl\n",
    "#plot(x, [0.0044*i - 0.0107 for i in x], linewidth=1, color ='r')\n",
    "pl.errorbar(x, data,fmt='gs', capsize=22, color = 'black')\n",
    "pl.plot(x, y, linewidth=1, color ='green')\n",
    "pl.xlabel(r'E, $кВ/см$')\n",
    "pl.ylabel(r'$Ph/e$')\n",
    "pl.savefig('gr_v1.pdf', bbox_inches='tight', format='pdf')"
   ]
  },
  {
   "cell_type": "code",
   "execution_count": 56,
   "id": "053880d5",
   "metadata": {},
   "outputs": [
    {
     "data": {
      "text/plain": [
       "<Figure size 432x288 with 0 Axes>"
      ]
     },
     "metadata": {},
     "output_type": "display_data"
    }
   ],
   "source": []
  },
  {
   "cell_type": "code",
   "execution_count": null,
   "id": "9ed7d331",
   "metadata": {},
   "outputs": [],
   "source": []
  }
 ],
 "metadata": {
  "kernelspec": {
   "display_name": "Python 3 (ipykernel)",
   "language": "python",
   "name": "python3"
  },
  "language_info": {
   "codemirror_mode": {
    "name": "ipython",
    "version": 3
   },
   "file_extension": ".py",
   "mimetype": "text/x-python",
   "name": "python",
   "nbconvert_exporter": "python",
   "pygments_lexer": "ipython3",
   "version": "3.9.7"
  }
 },
 "nbformat": 4,
 "nbformat_minor": 5
}
